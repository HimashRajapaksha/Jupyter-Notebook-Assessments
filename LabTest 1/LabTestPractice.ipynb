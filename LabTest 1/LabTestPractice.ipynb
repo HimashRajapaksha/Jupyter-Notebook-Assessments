{
 "cells": [
  {
   "cell_type": "code",
   "execution_count": 1,
   "id": "210c532e-12d5-419b-b560-6682e8c0fcf5",
   "metadata": {},
   "outputs": [],
   "source": [
    "import numpy as np"
   ]
  },
  {
   "cell_type": "code",
   "execution_count": 2,
   "id": "95591e6b-c317-40f8-b81f-8aedf8cfb793",
   "metadata": {},
   "outputs": [],
   "source": [
    "import pandas as pd\n",
    "from matplotlib import pyplot as plt"
   ]
  },
  {
   "cell_type": "code",
   "execution_count": 3,
   "id": "ec2c7623-b63b-45b3-be93-d5bcf670916f",
   "metadata": {},
   "outputs": [],
   "source": [
    "raw_data = pd.read_csv(\"Basketball.csv\")"
   ]
  },
  {
   "cell_type": "code",
   "execution_count": null,
   "id": "09ee6c2d-a61a-45fa-b8fa-ef80656ecd63",
   "metadata": {},
   "outputs": [],
   "source": []
  }
 ],
 "metadata": {
  "kernelspec": {
   "display_name": "Python 3 (ipykernel)",
   "language": "python",
   "name": "python3"
  },
  "language_info": {
   "codemirror_mode": {
    "name": "ipython",
    "version": 3
   },
   "file_extension": ".py",
   "mimetype": "text/x-python",
   "name": "python",
   "nbconvert_exporter": "python",
   "pygments_lexer": "ipython3",
   "version": "3.12.4"
  }
 },
 "nbformat": 4,
 "nbformat_minor": 5
}
